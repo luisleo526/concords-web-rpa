{
 "cells": [
  {
   "cell_type": "code",
   "id": "initial_id",
   "metadata": {
    "collapsed": true,
    "ExecuteTime": {
     "end_time": "2024-08-17T13:05:45.257792Z",
     "start_time": "2024-08-17T13:05:42.494892Z"
    }
   },
   "source": [
    "import pytesseract\n",
    "from PIL import Image\n",
    "from selenium.common.exceptions import NoAlertPresentException\n",
    "from selenium.webdriver.common.alert import Alert\n",
    "from selenium.webdriver.common.by import By\n",
    "\n",
    "from browser import WebBrowser\n",
    "\n",
    "# https://digi.bib.uni-mannheim.de/tesseract/\n",
    "pytesseract.pytesseract.tesseract_cmd = r'C:\\Program Files\\Tesseract-OCR\\tesseract.exe'\n",
    "\n",
    "browser = WebBrowser(ads_id='kky3wkp', port=50360)\n",
    "\n",
    "with open('credentials', 'r') as file:\n",
    "    lines = file.readlines()\n",
    "    username = lines[2].strip()\n",
    "    password = lines[3].strip()"
   ],
   "outputs": [],
   "execution_count": 1
  },
  {
   "metadata": {
    "ExecuteTime": {
     "end_time": "2024-08-17T13:05:47.518785Z",
     "start_time": "2024-08-17T13:05:45.261796Z"
    }
   },
   "cell_type": "code",
   "source": [
    "browser.driver.get('https://www.entrust.com.tw/entrust/indexA.do')\n",
    "browser.maximize_window()"
   ],
   "id": "d08dcf50cba5991b",
   "outputs": [],
   "execution_count": 2
  },
  {
   "metadata": {
    "ExecuteTime": {
     "end_time": "2024-08-17T13:05:47.581864Z",
     "start_time": "2024-08-17T13:05:47.560991Z"
    }
   },
   "cell_type": "code",
   "source": "browser.driver.switch_to.frame('user_login_iframe')",
   "id": "ad9543477ec2e5f4",
   "outputs": [],
   "execution_count": 3
  },
  {
   "metadata": {
    "ExecuteTime": {
     "end_time": "2024-08-17T13:06:01.859655Z",
     "start_time": "2024-08-17T13:05:58.978788Z"
    }
   },
   "cell_type": "code",
   "source": [
    "from time import sleep\n",
    "\n",
    "try:\n",
    "    \n",
    "    browser.insert_text('//*[@id=\"txtLoginID\"]', username, True)\n",
    "    browser.insert_text('//*[@id=\"txtPassword\"]', password, True)\n",
    "\n",
    "    while True:\n",
    "        img = browser.driver.find_element(By.XPATH, '//*[@id=\"imCaptcha\"]')\n",
    "\n",
    "        with open('captcha.png', 'wb') as file:\n",
    "            file.write(img.screenshot_as_png)\n",
    "\n",
    "        captcha = Image.open('captcha.png')\n",
    "\n",
    "        code = pytesseract.image_to_string(captcha)\n",
    "        code = code.strip().replace(' ', '')\n",
    "\n",
    "        print('code:', code)\n",
    "\n",
    "        if code.isnumeric() and len(code) == 6:\n",
    "            break\n",
    "\n",
    "        browser.click_button('//*[@id=\"refresh-captcha\"]/img')\n",
    "        sleep(1)\n",
    "\n",
    "    browser.insert_text('//*[@id=\"AuthNum\"]', code, True)\n",
    "    browser.click_button('//*[@id=\"Form1\"]/div[4]/div[2]/div[6]/a[1]')\n",
    "\n",
    "    alert = Alert(browser.driver)\n",
    "\n",
    "    print(alert.text)\n",
    "\n",
    "    alert.accept()\n",
    "\n",
    "except NoAlertPresentException as e:\n",
    "    pass\n"
   ],
   "id": "4a6db9e5cca85f2e",
   "outputs": [
    {
     "name": "stdout",
     "output_type": "stream",
     "text": [
      "code: Caa3esSMew\n",
      "code: or>0950\n",
      "code: 756374\n"
     ]
    }
   ],
   "execution_count": 5
  },
  {
   "metadata": {
    "ExecuteTime": {
     "end_time": "2024-08-17T13:05:48.048714Z",
     "start_time": "2024-08-17T13:05:48.046725Z"
    }
   },
   "cell_type": "code",
   "source": "",
   "id": "90d37fa8fe1c727c",
   "outputs": [],
   "execution_count": null
  }
 ],
 "metadata": {
  "kernelspec": {
   "display_name": "TeamSync",
   "language": "python",
   "name": "teamsync"
  },
  "language_info": {
   "codemirror_mode": {
    "name": "ipython",
    "version": 2
   },
   "file_extension": ".py",
   "mimetype": "text/x-python",
   "name": "python",
   "nbconvert_exporter": "python",
   "pygments_lexer": "ipython2",
   "version": "2.7.6"
  }
 },
 "nbformat": 4,
 "nbformat_minor": 5
}
