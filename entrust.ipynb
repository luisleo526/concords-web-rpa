{
 "cells": [
  {
   "cell_type": "code",
   "id": "initial_id",
   "metadata": {
    "collapsed": true,
    "ExecuteTime": {
     "end_time": "2024-08-11T17:38:35.710555Z",
     "start_time": "2024-08-11T17:38:33.552481Z"
    }
   },
   "source": [
    "import pytesseract\n",
    "from PIL import Image\n",
    "from selenium.common.exceptions import NoAlertPresentException\n",
    "from selenium.webdriver.common.alert import Alert\n",
    "from selenium.webdriver.common.by import By\n",
    "\n",
    "from browser import WebBrowser\n",
    "\n",
    "# https://digi.bib.uni-mannheim.de/tesseract/\n",
    "pytesseract.pytesseract.tesseract_cmd = r'C:\\Program Files\\Tesseract-OCR\\tesseract.exe'\n",
    "\n",
    "browser = WebBrowser(ads_id='kky3wkp', port=50360)\n",
    "\n",
    "with open('credentials', 'r') as file:\n",
    "    lines = file.readlines()\n",
    "    username = lines[2].strip()\n",
    "    password = lines[3].strip()"
   ],
   "outputs": [],
   "execution_count": 5
  },
  {
   "metadata": {
    "ExecuteTime": {
     "end_time": "2024-08-11T17:38:38.594614Z",
     "start_time": "2024-08-11T17:38:36.396784Z"
    }
   },
   "cell_type": "code",
   "source": "browser.driver.get('https://www.entrust.com.tw/entrust/indexA.do')",
   "id": "d08dcf50cba5991b",
   "outputs": [],
   "execution_count": 6
  },
  {
   "metadata": {
    "ExecuteTime": {
     "end_time": "2024-08-11T17:38:38.617688Z",
     "start_time": "2024-08-11T17:38:38.595618Z"
    }
   },
   "cell_type": "code",
   "source": "browser.driver.switch_to.frame('user_login_iframe')",
   "id": "ad9543477ec2e5f4",
   "outputs": [],
   "execution_count": 7
  },
  {
   "metadata": {
    "ExecuteTime": {
     "end_time": "2024-08-11T17:48:05.391140Z",
     "start_time": "2024-08-11T17:48:04.625944Z"
    }
   },
   "cell_type": "code",
   "source": [
    "\n",
    "from time import sleep\n",
    "\n",
    "try:\n",
    "    \n",
    "    browser.inset_text('//*[@id=\"txtLoginID\"]', username, True)\n",
    "    browser.inset_text('//*[@id=\"txtPassword\"]', password, True)\n",
    "\n",
    "    while True:\n",
    "        img = browser.driver.find_element(By.XPATH, '//*[@id=\"imCaptcha\"]')\n",
    "\n",
    "        with open('captcha.png', 'wb') as file:\n",
    "            file.write(img.screenshot_as_png)\n",
    "\n",
    "        captcha = Image.open('captcha.png')\n",
    "\n",
    "        code = pytesseract.image_to_string(captcha)\n",
    "        code = code.strip().replace(' ', '')\n",
    "\n",
    "        print('code:', code)\n",
    "\n",
    "        if code.isnumeric() and len(code) == 6:\n",
    "            break\n",
    "\n",
    "        browser.click_button('//*[@id=\"refresh-captcha\"]/img')\n",
    "        sleep(1)\n",
    "\n",
    "    browser.inset_text('//*[@id=\"AuthNum\"]', code, True)\n",
    "    browser.click_button('//*[@id=\"Form1\"]/div[4]/div[2]/div[6]/a[1]')\n",
    "\n",
    "    alert = Alert(browser.driver)\n",
    "\n",
    "    print(alert.text)\n",
    "\n",
    "    alert.accept()\n",
    "\n",
    "except NoAlertPresentException as e:\n",
    "    pass\n"
   ],
   "id": "4a6db9e5cca85f2e",
   "outputs": [
    {
     "name": "stdout",
     "output_type": "stream",
     "text": [
      "code: 209284\n"
     ]
    },
    {
     "ename": "NameError",
     "evalue": "name 'NoAlertPresentException' is not defined",
     "output_type": "error",
     "traceback": [
      "\u001B[1;31m---------------------------------------------------------------------------\u001B[0m",
      "\u001B[1;31mNoAlertPresentException\u001B[0m                   Traceback (most recent call last)",
      "Cell \u001B[1;32mIn[20], line 32\u001B[0m\n\u001B[0;32m     30\u001B[0m alert \u001B[38;5;241m=\u001B[39m Alert(browser\u001B[38;5;241m.\u001B[39mdriver)\n\u001B[1;32m---> 32\u001B[0m \u001B[38;5;28mprint\u001B[39m(alert\u001B[38;5;241m.\u001B[39mtext)\n\u001B[0;32m     34\u001B[0m alert\u001B[38;5;241m.\u001B[39maccept()\n",
      "File \u001B[1;32m~\\anaconda3\\envs\\teamsync\\Lib\\site-packages\\selenium\\webdriver\\common\\alert.py:58\u001B[0m, in \u001B[0;36mAlert.text\u001B[1;34m(self)\u001B[0m\n\u001B[0;32m     57\u001B[0m \u001B[38;5;250m\u001B[39m\u001B[38;5;124;03m\"\"\"Gets the text of the Alert.\"\"\"\u001B[39;00m\n\u001B[1;32m---> 58\u001B[0m \u001B[38;5;28;01mreturn\u001B[39;00m \u001B[38;5;28mself\u001B[39m\u001B[38;5;241m.\u001B[39mdriver\u001B[38;5;241m.\u001B[39mexecute(Command\u001B[38;5;241m.\u001B[39mW3C_GET_ALERT_TEXT)[\u001B[38;5;124m\"\u001B[39m\u001B[38;5;124mvalue\u001B[39m\u001B[38;5;124m\"\u001B[39m]\n",
      "File \u001B[1;32m~\\anaconda3\\envs\\teamsync\\Lib\\site-packages\\selenium\\webdriver\\remote\\webdriver.py:354\u001B[0m, in \u001B[0;36mWebDriver.execute\u001B[1;34m(self, driver_command, params)\u001B[0m\n\u001B[0;32m    353\u001B[0m \u001B[38;5;28;01mif\u001B[39;00m response:\n\u001B[1;32m--> 354\u001B[0m     \u001B[38;5;28mself\u001B[39m\u001B[38;5;241m.\u001B[39merror_handler\u001B[38;5;241m.\u001B[39mcheck_response(response)\n\u001B[0;32m    355\u001B[0m     response[\u001B[38;5;124m\"\u001B[39m\u001B[38;5;124mvalue\u001B[39m\u001B[38;5;124m\"\u001B[39m] \u001B[38;5;241m=\u001B[39m \u001B[38;5;28mself\u001B[39m\u001B[38;5;241m.\u001B[39m_unwrap_value(response\u001B[38;5;241m.\u001B[39mget(\u001B[38;5;124m\"\u001B[39m\u001B[38;5;124mvalue\u001B[39m\u001B[38;5;124m\"\u001B[39m, \u001B[38;5;28;01mNone\u001B[39;00m))\n",
      "File \u001B[1;32m~\\anaconda3\\envs\\teamsync\\Lib\\site-packages\\selenium\\webdriver\\remote\\errorhandler.py:229\u001B[0m, in \u001B[0;36mErrorHandler.check_response\u001B[1;34m(self, response)\u001B[0m\n\u001B[0;32m    228\u001B[0m     \u001B[38;5;28;01mraise\u001B[39;00m exception_class(message, screen, stacktrace, alert_text)  \u001B[38;5;66;03m# type: ignore[call-arg]  # mypy is not smart enough here\u001B[39;00m\n\u001B[1;32m--> 229\u001B[0m \u001B[38;5;28;01mraise\u001B[39;00m exception_class(message, screen, stacktrace)\n",
      "\u001B[1;31mNoAlertPresentException\u001B[0m: Message: no such alert\n  (Session info: chrome=126.0.6478.57)\nStacktrace:\n\tGetHandleVerifier [0x00007FF7B0F98182+54882]\n\t(No symbol) [0x00007FF7B0E04ECD]\n\t(No symbol) [0x00007FF7B0B3CCFD]\n\t(No symbol) [0x00007FF7B0B2CA7C]\n\t(No symbol) [0x00007FF7B0B62D02]\n\t(No symbol) [0x00007FF7B0BB5A8D]\n\t(No symbol) [0x00007FF7B0B62B7D]\n\t(No symbol) [0x00007FF7B0B62A3D]\n\t(No symbol) [0x00007FF7B0BB5693]\n\t(No symbol) [0x00007FF7B0B81AB0]\n\t(No symbol) [0x00007FF7B0B8067B]\n\t(No symbol) [0x00007FF7B0B814FA]\n\tGetHandleVerifier [0x00007FF7B0FB864E+187182]\n\tsqlite3_dbdata_init [0x00007FF7B11D1393+725155]\n\tsqlite3_dbdata_init [0x00007FF7B11D0D06+723478]\n\tsqlite3_dbdata_init [0x00007FF7B11CA869+697721]\n\tsqlite3_dbdata_init [0x00007FF7B11D1C64+727412]\n\t(No symbol) [0x00007FF7B0E1C5CE]\n\t(No symbol) [0x00007FF7B0E0FB24]\n\t(No symbol) [0x00007FF7B0E0FCB6]\n\t(No symbol) [0x00007FF7B0DF5CF1]\n\tBaseThreadInitThunk [0x00007FFBF115257D+29]\n\tRtlUserThreadStart [0x00007FFBF2AAAF28+40]\n",
      "\nDuring handling of the above exception, another exception occurred:\n",
      "\u001B[1;31mNameError\u001B[0m                                 Traceback (most recent call last)",
      "Cell \u001B[1;32mIn[20], line 36\u001B[0m\n\u001B[0;32m     32\u001B[0m     \u001B[38;5;28mprint\u001B[39m(alert\u001B[38;5;241m.\u001B[39mtext)\n\u001B[0;32m     34\u001B[0m     alert\u001B[38;5;241m.\u001B[39maccept()\n\u001B[1;32m---> 36\u001B[0m \u001B[38;5;28;01mexcept\u001B[39;00m NoAlertPresentException \u001B[38;5;28;01mas\u001B[39;00m e:\n\u001B[0;32m     37\u001B[0m     \u001B[38;5;28;01mpass\u001B[39;00m\n",
      "\u001B[1;31mNameError\u001B[0m: name 'NoAlertPresentException' is not defined"
     ]
    }
   ],
   "execution_count": 20
  },
  {
   "metadata": {},
   "cell_type": "code",
   "outputs": [],
   "execution_count": null,
   "source": "",
   "id": "ebc6472bd66645dd"
  }
 ],
 "metadata": {
  "kernelspec": {
   "display_name": "Python 3",
   "language": "python",
   "name": "python3"
  },
  "language_info": {
   "codemirror_mode": {
    "name": "ipython",
    "version": 2
   },
   "file_extension": ".py",
   "mimetype": "text/x-python",
   "name": "python",
   "nbconvert_exporter": "python",
   "pygments_lexer": "ipython2",
   "version": "2.7.6"
  }
 },
 "nbformat": 4,
 "nbformat_minor": 5
}
