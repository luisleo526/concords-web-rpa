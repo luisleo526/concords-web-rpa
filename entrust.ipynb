{
 "cells": [
  {
   "cell_type": "code",
   "id": "initial_id",
   "metadata": {
    "collapsed": true,
    "ExecuteTime": {
     "end_time": "2024-08-11T17:36:43.799195Z",
     "start_time": "2024-08-11T17:36:41.070344Z"
    }
   },
   "source": [
    "import pytesseract\n",
    "from PIL import Image\n",
    "from selenium.webdriver.common.by import By\n",
    "\n",
    "from browser import WebBrowser\n",
    "\n",
    "pytesseract.pytesseract.tesseract_cmd = r'C:\\Program Files\\Tesseract-OCR\\tesseract.exe'\n",
    "\n",
    "browser = WebBrowser(ads_id='kky3wkp', port=50360)\n",
    "\n",
    "with open('credentials', 'r') as file:\n",
    "    lines = file.readlines()\n",
    "    username = lines[2].strip()\n",
    "    password = lines[3].strip()"
   ],
   "outputs": [],
   "execution_count": 1
  },
  {
   "metadata": {
    "ExecuteTime": {
     "end_time": "2024-08-11T17:36:45.989524Z",
     "start_time": "2024-08-11T17:36:43.800199Z"
    }
   },
   "cell_type": "code",
   "source": "browser.driver.get('https://www.entrust.com.tw/entrust/indexA.do')",
   "id": "d08dcf50cba5991b",
   "outputs": [],
   "execution_count": 2
  },
  {
   "metadata": {
    "ExecuteTime": {
     "end_time": "2024-08-11T17:36:46.011130Z",
     "start_time": "2024-08-11T17:36:45.990528Z"
    }
   },
   "cell_type": "code",
   "source": "browser.driver.switch_to.frame('user_login_iframe')",
   "id": "ad9543477ec2e5f4",
   "outputs": [],
   "execution_count": 3
  },
  {
   "metadata": {
    "ExecuteTime": {
     "end_time": "2024-08-11T17:37:10.293317Z",
     "start_time": "2024-08-11T17:36:46.012135Z"
    }
   },
   "cell_type": "code",
   "source": [
    "\n",
    "from time import sleep\n",
    "\n",
    "browser.inset_text('//*[@id=\"txtLoginID\"]', username, True)\n",
    "browser.inset_text('//*[@id=\"txtPassword\"]', password, True)\n",
    "\n",
    "while True:\n",
    "    img = browser.driver.find_element(By.XPATH, '//*[@id=\"imCaptcha\"]')\n",
    "\n",
    "    with open('captcha.png', 'wb') as file:\n",
    "        file.write(img.screenshot_as_png)\n",
    "\n",
    "    captcha = Image.open('captcha.png')\n",
    "\n",
    "    code = pytesseract.image_to_string(captcha)\n",
    "    code = code.strip()\n",
    "\n",
    "    print('code:', code)\n",
    "\n",
    "    if code.isnumeric() and len(code) == 6:\n",
    "        break\n",
    "\n",
    "    browser.click_button('//*[@id=\"refresh-captcha\"]/img')\n",
    "    sleep(1)\n",
    "\n",
    "browser.inset_text('//*[@id=\"AuthNum\"]', code, True)\n",
    "browser.click_button('//*[@id=\"Form1\"]/div[4]/div[2]/div[6]/a[1]')"
   ],
   "id": "4a6db9e5cca85f2e",
   "outputs": [
    {
     "name": "stdout",
     "output_type": "stream",
     "text": [
      "code: Stsiororege2\n",
      "code: 12964 5\n",
      "code: 8468\n",
      "code: FA ei\n",
      "code: 62co994\n",
      "code: 4:53:65 26\n",
      "code: 670 561\n",
      "code: 3ogz31 6\n",
      "code: 2047S 9\n",
      "code: \n",
      "code: 279 277\n",
      "code: 2s6e6007\n",
      "code: 9@g@241\n",
      "code: 4997238\n",
      "code: re eae\n",
      "G9gqg2\n",
      "code: 89645\n",
      "code: 2664839\n",
      "code: ral Mesa ls? lf pal\n",
      "code: oog1tr 9x SE\n",
      "code: 879329\n"
     ]
    }
   ],
   "execution_count": 4
  },
  {
   "metadata": {
    "ExecuteTime": {
     "end_time": "2024-08-11T17:37:10.295690Z",
     "start_time": "2024-08-11T17:37:10.293317Z"
    }
   },
   "cell_type": "code",
   "source": "",
   "id": "ee4fae160e4425b1",
   "outputs": [],
   "execution_count": 4
  },
  {
   "metadata": {
    "ExecuteTime": {
     "end_time": "2024-08-11T17:37:10.298214Z",
     "start_time": "2024-08-11T17:37:10.296693Z"
    }
   },
   "cell_type": "code",
   "source": "",
   "id": "95b467f95c73d2c1",
   "outputs": [],
   "execution_count": 4
  }
 ],
 "metadata": {
  "kernelspec": {
   "display_name": "Python 3",
   "language": "python",
   "name": "python3"
  },
  "language_info": {
   "codemirror_mode": {
    "name": "ipython",
    "version": 2
   },
   "file_extension": ".py",
   "mimetype": "text/x-python",
   "name": "python",
   "nbconvert_exporter": "python",
   "pygments_lexer": "ipython2",
   "version": "2.7.6"
  }
 },
 "nbformat": 4,
 "nbformat_minor": 5
}
