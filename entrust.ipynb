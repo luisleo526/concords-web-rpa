{
 "cells": [
  {
   "cell_type": "code",
   "id": "initial_id",
   "metadata": {
    "collapsed": true,
    "ExecuteTime": {
     "end_time": "2024-08-13T06:42:20.317139Z",
     "start_time": "2024-08-13T06:42:16.441758Z"
    }
   },
   "source": [
    "import pytesseract\n",
    "from PIL import Image\n",
    "from selenium.common.exceptions import NoAlertPresentException\n",
    "from selenium.webdriver.common.alert import Alert\n",
    "from selenium.webdriver.common.by import By\n",
    "\n",
    "from browser import WebBrowser\n",
    "\n",
    "# https://digi.bib.uni-mannheim.de/tesseract/\n",
    "pytesseract.pytesseract.tesseract_cmd = r'C:\\Program Files\\Tesseract-OCR\\tesseract.exe'\n",
    "\n",
    "browser = WebBrowser(ads_id='kky3wkp', port=62680)\n",
    "\n",
    "with open('credentials', 'r') as file:\n",
    "    lines = file.readlines()\n",
    "    username = lines[2].strip()\n",
    "    password = lines[3].strip()"
   ],
   "outputs": [],
   "execution_count": 1
  },
  {
   "metadata": {
    "ExecuteTime": {
     "end_time": "2024-08-13T06:52:46.762670Z",
     "start_time": "2024-08-13T06:52:46.640009Z"
    }
   },
   "cell_type": "code",
   "source": "browser.driver.get('https://www.entrust.com.tw/entrust/indexA.do')",
   "id": "d08dcf50cba5991b",
   "outputs": [
    {
     "ename": "NoSuchWindowException",
     "evalue": "Message: no such window: target window already closed\nfrom unknown error: web view not found\n  (Session info: chrome=126.0.6478.57)\nStacktrace:\n\tGetHandleVerifier [0x00007FF71A778182+54882]\n\t(No symbol) [0x00007FF71A5E4ECD]\n\t(No symbol) [0x00007FF71A31CE6B]\n\t(No symbol) [0x00007FF71A2F0799]\n\t(No symbol) [0x00007FF71A39F14F]\n\t(No symbol) [0x00007FF71A3B6F7D]\n\t(No symbol) [0x00007FF71A395693]\n\t(No symbol) [0x00007FF71A361AB0]\n\t(No symbol) [0x00007FF71A36067B]\n\t(No symbol) [0x00007FF71A3614FA]\n\tGetHandleVerifier [0x00007FF71A79864E+187182]\n\tsqlite3_dbdata_init [0x00007FF71A9B1393+725155]\n\tsqlite3_dbdata_init [0x00007FF71A9B0D06+723478]\n\tsqlite3_dbdata_init [0x00007FF71A9AA869+697721]\n\tsqlite3_dbdata_init [0x00007FF71A9B1C64+727412]\n\t(No symbol) [0x00007FF71A5FC5CE]\n\t(No symbol) [0x00007FF71A5EFB24]\n\t(No symbol) [0x00007FF71A5EFCB6]\n\t(No symbol) [0x00007FF71A5D5CF1]\n\tBaseThreadInitThunk [0x00007FFFDB2F257D+29]\n\tRtlUserThreadStart [0x00007FFFDCA6AF28+40]\n",
     "output_type": "error",
     "traceback": [
      "\u001B[1;31m---------------------------------------------------------------------------\u001B[0m",
      "\u001B[1;31mNoSuchWindowException\u001B[0m                     Traceback (most recent call last)",
      "Cell \u001B[1;32mIn[13], line 1\u001B[0m\n\u001B[1;32m----> 1\u001B[0m browser\u001B[38;5;241m.\u001B[39mdriver\u001B[38;5;241m.\u001B[39mget(\u001B[38;5;124m'\u001B[39m\u001B[38;5;124mhttps://www.entrust.com.tw/entrust/indexA.do\u001B[39m\u001B[38;5;124m'\u001B[39m)\n",
      "File \u001B[1;32m~\\anaconda3\\envs\\teamsync\\Lib\\site-packages\\selenium\\webdriver\\remote\\webdriver.py:363\u001B[0m, in \u001B[0;36mWebDriver.get\u001B[1;34m(self, url)\u001B[0m\n\u001B[0;32m    361\u001B[0m \u001B[38;5;28;01mdef\u001B[39;00m \u001B[38;5;21mget\u001B[39m(\u001B[38;5;28mself\u001B[39m, url: \u001B[38;5;28mstr\u001B[39m) \u001B[38;5;241m-\u001B[39m\u001B[38;5;241m>\u001B[39m \u001B[38;5;28;01mNone\u001B[39;00m:\n\u001B[0;32m    362\u001B[0m \u001B[38;5;250m    \u001B[39m\u001B[38;5;124;03m\"\"\"Loads a web page in the current browser session.\"\"\"\u001B[39;00m\n\u001B[1;32m--> 363\u001B[0m     \u001B[38;5;28mself\u001B[39m\u001B[38;5;241m.\u001B[39mexecute(Command\u001B[38;5;241m.\u001B[39mGET, {\u001B[38;5;124m\"\u001B[39m\u001B[38;5;124murl\u001B[39m\u001B[38;5;124m\"\u001B[39m: url})\n",
      "File \u001B[1;32m~\\anaconda3\\envs\\teamsync\\Lib\\site-packages\\selenium\\webdriver\\remote\\webdriver.py:354\u001B[0m, in \u001B[0;36mWebDriver.execute\u001B[1;34m(self, driver_command, params)\u001B[0m\n\u001B[0;32m    352\u001B[0m response \u001B[38;5;241m=\u001B[39m \u001B[38;5;28mself\u001B[39m\u001B[38;5;241m.\u001B[39mcommand_executor\u001B[38;5;241m.\u001B[39mexecute(driver_command, params)\n\u001B[0;32m    353\u001B[0m \u001B[38;5;28;01mif\u001B[39;00m response:\n\u001B[1;32m--> 354\u001B[0m     \u001B[38;5;28mself\u001B[39m\u001B[38;5;241m.\u001B[39merror_handler\u001B[38;5;241m.\u001B[39mcheck_response(response)\n\u001B[0;32m    355\u001B[0m     response[\u001B[38;5;124m\"\u001B[39m\u001B[38;5;124mvalue\u001B[39m\u001B[38;5;124m\"\u001B[39m] \u001B[38;5;241m=\u001B[39m \u001B[38;5;28mself\u001B[39m\u001B[38;5;241m.\u001B[39m_unwrap_value(response\u001B[38;5;241m.\u001B[39mget(\u001B[38;5;124m\"\u001B[39m\u001B[38;5;124mvalue\u001B[39m\u001B[38;5;124m\"\u001B[39m, \u001B[38;5;28;01mNone\u001B[39;00m))\n\u001B[0;32m    356\u001B[0m     \u001B[38;5;28;01mreturn\u001B[39;00m response\n",
      "File \u001B[1;32m~\\anaconda3\\envs\\teamsync\\Lib\\site-packages\\selenium\\webdriver\\remote\\errorhandler.py:229\u001B[0m, in \u001B[0;36mErrorHandler.check_response\u001B[1;34m(self, response)\u001B[0m\n\u001B[0;32m    227\u001B[0m         alert_text \u001B[38;5;241m=\u001B[39m value[\u001B[38;5;124m\"\u001B[39m\u001B[38;5;124malert\u001B[39m\u001B[38;5;124m\"\u001B[39m]\u001B[38;5;241m.\u001B[39mget(\u001B[38;5;124m\"\u001B[39m\u001B[38;5;124mtext\u001B[39m\u001B[38;5;124m\"\u001B[39m)\n\u001B[0;32m    228\u001B[0m     \u001B[38;5;28;01mraise\u001B[39;00m exception_class(message, screen, stacktrace, alert_text)  \u001B[38;5;66;03m# type: ignore[call-arg]  # mypy is not smart enough here\u001B[39;00m\n\u001B[1;32m--> 229\u001B[0m \u001B[38;5;28;01mraise\u001B[39;00m exception_class(message, screen, stacktrace)\n",
      "\u001B[1;31mNoSuchWindowException\u001B[0m: Message: no such window: target window already closed\nfrom unknown error: web view not found\n  (Session info: chrome=126.0.6478.57)\nStacktrace:\n\tGetHandleVerifier [0x00007FF71A778182+54882]\n\t(No symbol) [0x00007FF71A5E4ECD]\n\t(No symbol) [0x00007FF71A31CE6B]\n\t(No symbol) [0x00007FF71A2F0799]\n\t(No symbol) [0x00007FF71A39F14F]\n\t(No symbol) [0x00007FF71A3B6F7D]\n\t(No symbol) [0x00007FF71A395693]\n\t(No symbol) [0x00007FF71A361AB0]\n\t(No symbol) [0x00007FF71A36067B]\n\t(No symbol) [0x00007FF71A3614FA]\n\tGetHandleVerifier [0x00007FF71A79864E+187182]\n\tsqlite3_dbdata_init [0x00007FF71A9B1393+725155]\n\tsqlite3_dbdata_init [0x00007FF71A9B0D06+723478]\n\tsqlite3_dbdata_init [0x00007FF71A9AA869+697721]\n\tsqlite3_dbdata_init [0x00007FF71A9B1C64+727412]\n\t(No symbol) [0x00007FF71A5FC5CE]\n\t(No symbol) [0x00007FF71A5EFB24]\n\t(No symbol) [0x00007FF71A5EFCB6]\n\t(No symbol) [0x00007FF71A5D5CF1]\n\tBaseThreadInitThunk [0x00007FFFDB2F257D+29]\n\tRtlUserThreadStart [0x00007FFFDCA6AF28+40]\n"
     ]
    }
   ],
   "execution_count": 13
  },
  {
   "metadata": {
    "ExecuteTime": {
     "end_time": "2024-08-13T06:53:08.457155Z",
     "start_time": "2024-08-13T06:53:08.426250Z"
    }
   },
   "cell_type": "code",
   "source": "browser.driver.switch_to.frame('user_login_iframe')",
   "id": "ad9543477ec2e5f4",
   "outputs": [],
   "execution_count": 19
  },
  {
   "metadata": {
    "ExecuteTime": {
     "end_time": "2024-08-13T06:57:08.143670Z",
     "start_time": "2024-08-13T06:57:04.866360Z"
    }
   },
   "cell_type": "code",
   "source": [
    "\n",
    "from time import sleep\n",
    "\n",
    "try:\n",
    "    while True:\n",
    "        \n",
    "        browser.insert_text('//*[@id=\"txtLoginID\"]', username, True)\n",
    "        browser.insert_text('//*[@id=\"txtPassword\"]', password, True)\n",
    "    \n",
    "        while True:\n",
    "            img = browser.driver.find_element(By.XPATH, '//*[@id=\"imCaptcha\"]')\n",
    "    \n",
    "            with open('captcha.png', 'wb') as file:\n",
    "                file.write(img.screenshot_as_png)\n",
    "    \n",
    "            captcha = Image.open('captcha.png')\n",
    "    \n",
    "            code = pytesseract.image_to_string(captcha, config=\"outputbase digits\")\n",
    "            code = code.strip().replace(' ', '')\n",
    "            \n",
    "            print('code:', code)\n",
    "    \n",
    "            if code.isnumeric() and len(code) == 6:\n",
    "                break\n",
    "    \n",
    "            browser.click_button('//*[@id=\"refresh-captcha\"]/img')\n",
    "            sleep(1)\n",
    "    \n",
    "        browser.insert_text('//*[@id=\"AuthNum\"]', code, True)\n",
    "        browser.click_button('//*[@id=\"Form1\"]/div[4]/div[2]/div[6]/a[1]')\n",
    "    \n",
    "        alert = Alert(browser.driver)\n",
    "    \n",
    "        print(alert.text)\n",
    "    \n",
    "        alert.accept()\n",
    "\n",
    "except NoAlertPresentException as e:\n",
    "    pass\n"
   ],
   "id": "4a6db9e5cca85f2e",
   "outputs": [
    {
     "name": "stdout",
     "output_type": "stream",
     "text": [
      "code: 08\n",
      "code: 9-9--87-30\n",
      "code: 503144\n"
     ]
    }
   ],
   "execution_count": 22
  },
  {
   "metadata": {},
   "cell_type": "code",
   "outputs": [],
   "execution_count": null,
   "source": "",
   "id": "816637a7570eddc"
  }
 ],
 "metadata": {
  "kernelspec": {
   "display_name": "Python 3",
   "language": "python",
   "name": "python3"
  },
  "language_info": {
   "codemirror_mode": {
    "name": "ipython",
    "version": 2
   },
   "file_extension": ".py",
   "mimetype": "text/x-python",
   "name": "python",
   "nbconvert_exporter": "python",
   "pygments_lexer": "ipython2",
   "version": "2.7.6"
  }
 },
 "nbformat": 4,
 "nbformat_minor": 5
}
