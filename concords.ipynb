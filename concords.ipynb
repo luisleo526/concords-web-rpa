{
 "cells": [
  {
   "cell_type": "code",
   "id": "initial_id",
   "metadata": {
    "collapsed": true,
    "ExecuteTime": {
     "end_time": "2024-08-17T12:51:48.881220Z",
     "start_time": "2024-08-17T12:51:48.696319Z"
    }
   },
   "source": [
    "import json\n",
    "\n",
    "from concords import Concords"
   ],
   "outputs": [],
   "execution_count": 1
  },
  {
   "metadata": {
    "ExecuteTime": {
     "end_time": "2024-08-17T12:51:57.331799Z",
     "start_time": "2024-08-17T12:51:50.186553Z"
    }
   },
   "cell_type": "code",
   "source": "browser = Concords(ads_id='kky3wkp', port=50360)",
   "id": "685fb0e842235262",
   "outputs": [],
   "execution_count": 2
  },
  {
   "metadata": {
    "ExecuteTime": {
     "end_time": "2024-08-17T12:52:04.197686Z",
     "start_time": "2024-08-17T12:51:58.804823Z"
    }
   },
   "cell_type": "code",
   "source": [
    "browser.maximize_window()\n",
    "\n",
    "with open('credentials', 'r') as f:\n",
    "    account = f.readline().strip()\n",
    "    password = f.readline().strip()\n",
    "\n",
    "print(account, password)\n",
    "\n",
    "browser.login(account, password)"
   ],
   "id": "a9492ac400ba8352",
   "outputs": [
    {
     "name": "stdout",
     "output_type": "stream",
     "text": [
      "T123628665 Albert790327\n"
     ]
    }
   ],
   "execution_count": 3
  },
  {
   "metadata": {
    "ExecuteTime": {
     "end_time": "2024-08-17T12:39:28.190076Z",
     "start_time": "2024-08-17T12:39:22.479558Z"
    }
   },
   "cell_type": "code",
   "source": [
    "browser.enter_stock_market()\n",
    "# 抓過去十天的歷史證券委託\n",
    "stock_orders = browser.get_history_stock_orders(10)"
   ],
   "id": "62ea154c62cd25b2",
   "outputs": [
    {
     "name": "stdout",
     "output_type": "stream",
     "text": [
      "過去歷史10天的證券委託數量: 5\n"
     ]
    }
   ],
   "execution_count": 4
  },
  {
   "metadata": {
    "ExecuteTime": {
     "end_time": "2024-08-17T12:39:47.049711Z",
     "start_time": "2024-08-17T12:39:47.045925Z"
    }
   },
   "cell_type": "code",
   "source": [
    "# 顯示抓到的資料，列表中第一項及第三項\n",
    "print(\"第一項\")\n",
    "print(json.dumps(json.loads(stock_orders[0].model_dump_json()), ensure_ascii=False, indent=4))\n",
    "\n",
    "print(\"第三項\")\n",
    "print(json.dumps(json.loads(stock_orders[2].model_dump_json()), ensure_ascii=False, indent=4))"
   ],
   "id": "d5812abc6002bfb8",
   "outputs": [
    {
     "name": "stdout",
     "output_type": "stream",
     "text": [
      "第一項\n",
      "{\n",
      "    \"order_date\": \"2024/08/16\",\n",
      "    \"order_time\": \"09:48:03\",\n",
      "    \"market_type\": \"整股\",\n",
      "    \"trade_type\": \"現賣\",\n",
      "    \"trade_condition\": \"ROD\",\n",
      "    \"market\": \"8227_巨有科技\",\n",
      "    \"order_amount\": \"1,000\",\n",
      "    \"order_price\": \"市價\",\n",
      "    \"cancel_amount\": \"0\",\n",
      "    \"fill_amount\": \"1,000\",\n",
      "    \"avg_fill_price\": \"198.5\",\n",
      "    \"state\": \"完全成交\"\n",
      "}\n",
      "第三項\n",
      "{\n",
      "    \"order_date\": \"2024/08/14\",\n",
      "    \"order_time\": \"13:09:47\",\n",
      "    \"market_type\": \"整股\",\n",
      "    \"trade_type\": \"現賣\",\n",
      "    \"trade_condition\": \"ROD\",\n",
      "    \"market\": \"8227_巨有科技\",\n",
      "    \"order_amount\": \"1,000\",\n",
      "    \"order_price\": \"203\",\n",
      "    \"cancel_amount\": \"0\",\n",
      "    \"fill_amount\": \"1,000\",\n",
      "    \"avg_fill_price\": \"203\",\n",
      "    \"state\": \"完全成交\"\n",
      "}\n"
     ]
    }
   ],
   "execution_count": 5
  },
  {
   "metadata": {
    "ExecuteTime": {
     "end_time": "2024-08-17T12:40:01.448328Z",
     "start_time": "2024-08-17T12:39:48.761643Z"
    }
   },
   "cell_type": "code",
   "source": [
    "browser.enter_future_market()\n",
    "# 抓過去三天的歷史期貨委託\n",
    "future_orders = browser.get_history_future_orders(3)\n",
    "\n",
    "# 顯示抓到的資料，列表中第四項\n",
    "print(json.dumps(json.loads(future_orders[3].model_dump_json()), ensure_ascii=False, indent=4))\n",
    "\n",
    "# 抓當天的期貨委託\n",
    "toady_future_orders = browser.get_today_future_orders()\n",
    "\n",
    "# 顯示抓到的資料，列表中第一項\n",
    "print(json.dumps(json.loads(toady_future_orders[0].model_dump_json()), ensure_ascii=False, indent=4))"
   ],
   "id": "6f3a7537a9d73221",
   "outputs": [
    {
     "name": "stdout",
     "output_type": "stream",
     "text": [
      "過去歷史3天的期貨委託數量: 21\n",
      "{\n",
      "    \"order_date\": \"2024/08/15\",\n",
      "    \"order_time\": \"15:11:20\",\n",
      "    \"order_id\": \"5AdpQ\",\n",
      "    \"option_type\": \"期貨單式\",\n",
      "    \"trade_type\": \"賣\",\n",
      "    \"market\": \"TXF大台指-202408\",\n",
      "    \"order_price\": \"0\",\n",
      "    \"order_amount\": \"2\",\n",
      "    \"cancel_amount\": \"0\",\n",
      "    \"fill_amount\": \"2\",\n",
      "    \"avg_fill_price\": \"21,844\",\n",
      "    \"position_action\": \"平倉\",\n",
      "    \"order_condition\": \"IOC\",\n",
      "    \"action_device\": \"掌先機IPHONE\",\n",
      "    \"market_type\": \"盤後\",\n",
      "    \"state\": \"完全成交\"\n",
      "}\n",
      "今日期貨委託數量: 0\n"
     ]
    },
    {
     "ename": "IndexError",
     "evalue": "list index out of range",
     "output_type": "error",
     "traceback": [
      "\u001B[1;31m---------------------------------------------------------------------------\u001B[0m",
      "\u001B[1;31mIndexError\u001B[0m                                Traceback (most recent call last)",
      "Cell \u001B[1;32mIn[6], line 12\u001B[0m\n\u001B[0;32m      9\u001B[0m toady_future_orders \u001B[38;5;241m=\u001B[39m browser\u001B[38;5;241m.\u001B[39mget_today_future_orders()\n\u001B[0;32m     11\u001B[0m \u001B[38;5;66;03m# 顯示抓到的資料，列表中第一項\u001B[39;00m\n\u001B[1;32m---> 12\u001B[0m \u001B[38;5;28mprint\u001B[39m(json\u001B[38;5;241m.\u001B[39mdumps(json\u001B[38;5;241m.\u001B[39mloads(toady_future_orders[\u001B[38;5;241m0\u001B[39m]\u001B[38;5;241m.\u001B[39mmodel_dump_json()), ensure_ascii\u001B[38;5;241m=\u001B[39m\u001B[38;5;28;01mFalse\u001B[39;00m, indent\u001B[38;5;241m=\u001B[39m\u001B[38;5;241m4\u001B[39m))\n",
      "\u001B[1;31mIndexError\u001B[0m: list index out of range"
     ]
    }
   ],
   "execution_count": 6
  }
 ],
 "metadata": {
  "kernelspec": {
   "display_name": "TeamSync",
   "language": "python",
   "name": "teamsync"
  },
  "language_info": {
   "codemirror_mode": {
    "name": "ipython",
    "version": 2
   },
   "file_extension": ".py",
   "mimetype": "text/x-python",
   "name": "python",
   "nbconvert_exporter": "python",
   "pygments_lexer": "ipython2",
   "version": "2.7.6"
  }
 },
 "nbformat": 4,
 "nbformat_minor": 5
}
