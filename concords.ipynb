{
 "cells": [
  {
   "cell_type": "code",
   "id": "initial_id",
   "metadata": {
    "collapsed": true,
    "ExecuteTime": {
     "end_time": "2024-08-13T07:02:49.244645Z",
     "start_time": "2024-08-13T07:02:49.077429Z"
    }
   },
   "source": [
    "import json\n",
    "\n",
    "from concords import Concords"
   ],
   "outputs": [],
   "execution_count": 1
  },
  {
   "metadata": {
    "ExecuteTime": {
     "end_time": "2024-08-13T07:04:09.155385Z",
     "start_time": "2024-08-13T07:04:01.635774Z"
    }
   },
   "cell_type": "code",
   "source": "browser = Concords(ads_id='kky3wkp', port=62680)",
   "id": "685fb0e842235262",
   "outputs": [],
   "execution_count": 4
  },
  {
   "metadata": {
    "ExecuteTime": {
     "end_time": "2024-08-13T07:04:19.659075Z",
     "start_time": "2024-08-13T07:04:14.397082Z"
    }
   },
   "cell_type": "code",
   "source": [
    "with open('credentials', 'r') as f:\n",
    "    account = f.readline().strip()\n",
    "    password = f.readline().strip()\n",
    "\n",
    "browser.login(account, password)"
   ],
   "id": "a9492ac400ba8352",
   "outputs": [],
   "execution_count": 5
  },
  {
   "metadata": {
    "ExecuteTime": {
     "end_time": "2024-08-13T07:04:51.832449Z",
     "start_time": "2024-08-13T07:04:45.831043Z"
    }
   },
   "cell_type": "code",
   "source": [
    "browser.enter_stock_market()\n",
    "# 抓過去十天的歷史證券委託\n",
    "stock_orders = browser.get_history_stock_orders(10)"
   ],
   "id": "62ea154c62cd25b2",
   "outputs": [
    {
     "name": "stdout",
     "output_type": "stream",
     "text": [
      "過去歷史10天的證券委託數量: 11\n"
     ]
    }
   ],
   "execution_count": 7
  },
  {
   "metadata": {
    "ExecuteTime": {
     "end_time": "2024-08-07T07:47:33.049075Z",
     "start_time": "2024-08-07T07:47:33.041852Z"
    }
   },
   "cell_type": "code",
   "source": [
    "# 顯示抓到的資料，列表中第一項及第三項\n",
    "print(\"第一項\")\n",
    "print(json.dumps(json.loads(stock_orders[0].model_dump_json()), ensure_ascii=False, indent=4))\n",
    "\n",
    "print(\"第三項\")\n",
    "print(json.dumps(json.loads(stock_orders[2].model_dump_json()), ensure_ascii=False, indent=4))"
   ],
   "id": "d5812abc6002bfb8",
   "outputs": [
    {
     "name": "stdout",
     "output_type": "stream",
     "text": [
      "第一項\n",
      "{\n",
      "    \"order_date\": \"2024/08/06\",\n",
      "    \"order_time\": \"10:40:59\",\n",
      "    \"market_type\": \"整股\",\n",
      "    \"trade_type\": \"資賣\",\n",
      "    \"trade_condition\": \"ROD\",\n",
      "    \"market\": \"6869_雲豹能源\",\n",
      "    \"order_amount\": \"1,000\",\n",
      "    \"order_price\": \"市價\",\n",
      "    \"cancel_amount\": \"0\",\n",
      "    \"fill_amount\": \"1,000\",\n",
      "    \"avg_fill_price\": \"180\",\n",
      "    \"state\": \"完全成交\"\n",
      "}\n",
      "第三項\n",
      "{\n",
      "    \"order_date\": \"2024/08/06\",\n",
      "    \"order_time\": \"09:39:28\",\n",
      "    \"market_type\": \"整股\",\n",
      "    \"trade_type\": \"資賣\",\n",
      "    \"trade_condition\": \"ROD\",\n",
      "    \"market\": \"6869_雲豹能源\",\n",
      "    \"order_amount\": \"1,000\",\n",
      "    \"order_price\": \"市價\",\n",
      "    \"cancel_amount\": \"1,000\",\n",
      "    \"fill_amount\": \"0\",\n",
      "    \"avg_fill_price\": \"0\",\n",
      "    \"state\": \"委託取消\"\n",
      "}\n"
     ]
    }
   ],
   "execution_count": 11
  },
  {
   "metadata": {
    "ExecuteTime": {
     "end_time": "2024-08-07T07:47:46.091614Z",
     "start_time": "2024-08-07T07:47:33.051084Z"
    }
   },
   "cell_type": "code",
   "source": [
    "browser.enter_future_market()\n",
    "# 抓過去三天的歷史期貨委託\n",
    "future_orders = browser.get_history_future_orders(3)\n",
    "\n",
    "# 顯示抓到的資料，列表中第四項\n",
    "print(json.dumps(json.loads(future_orders[3].model_dump_json()), ensure_ascii=False, indent=4))\n",
    "\n",
    "# 抓當天的期貨委託\n",
    "toady_future_orders = browser.get_today_future_orders()\n",
    "\n",
    "# 顯示抓到的資料，列表中第一項\n",
    "print(json.dumps(json.loads(toady_future_orders[0].model_dump_json()), ensure_ascii=False, indent=4))"
   ],
   "id": "6f3a7537a9d73221",
   "outputs": [
    {
     "name": "stdout",
     "output_type": "stream",
     "text": [
      "過去歷史3天的期貨委託數量: 26\n",
      "{\n",
      "    \"order_date\": \"2024/08/05\",\n",
      "    \"order_time\": \"23:14:08\",\n",
      "    \"order_id\": \"0Axix\",\n",
      "    \"option_type\": \"期貨單式\",\n",
      "    \"trade_type\": \"買\",\n",
      "    \"market\": \"QFF小型台積電期貨-202408\",\n",
      "    \"order_price\": \"840\",\n",
      "    \"order_amount\": \"5\",\n",
      "    \"cancel_amount\": \"0\",\n",
      "    \"fill_amount\": \"5\",\n",
      "    \"avg_fill_price\": \"840\",\n",
      "    \"position_action\": \"新倉\",\n",
      "    \"order_condition\": \"ROD\",\n",
      "    \"action_device\": \"掌先機IPHONE\",\n",
      "    \"market_type\": \"盤後\",\n",
      "    \"state\": \"完全成交\"\n",
      "}\n",
      "今日期貨委託數量: 2\n",
      "{\n",
      "    \"state\": \"完全成交\",\n",
      "    \"order_time\": \"09:41:45\",\n",
      "    \"recv_order_time\": \"09:41:45\",\n",
      "    \"order_id\": \"0Adnr\",\n",
      "    \"option_type\": \"期貨單式\",\n",
      "    \"trade_type\": \"買\",\n",
      "    \"market\": \"MXF小台指-202408\",\n",
      "    \"order_price\": \"市價\",\n",
      "    \"order_amount\": \"1\",\n",
      "    \"cancel_amount\": \"0\",\n",
      "    \"fill_amount\": \"1\",\n",
      "    \"rest_amount\": \"0\",\n",
      "    \"position_action\": \"新倉\",\n",
      "    \"order_condition\": \"IOC\",\n",
      "    \"action_device\": \"掌先機IPHONE\",\n",
      "    \"market_type\": \"一般\"\n",
      "}\n"
     ]
    }
   ],
   "execution_count": 12
  }
 ],
 "metadata": {
  "kernelspec": {
   "display_name": "TeamSync",
   "language": "python",
   "name": "teamsync"
  },
  "language_info": {
   "codemirror_mode": {
    "name": "ipython",
    "version": 2
   },
   "file_extension": ".py",
   "mimetype": "text/x-python",
   "name": "python",
   "nbconvert_exporter": "python",
   "pygments_lexer": "ipython2",
   "version": "2.7.6"
  }
 },
 "nbformat": 4,
 "nbformat_minor": 5
}
